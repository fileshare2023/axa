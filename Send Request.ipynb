{
 "cells": [
  {
   "cell_type": "code",
   "execution_count": 3,
   "id": "a598a990-0aae-41e8-b1e7-8a012e3eb970",
   "metadata": {},
   "outputs": [
    {
     "name": "stdout",
     "output_type": "stream",
     "text": [
      "Generated Text: Once upon a time in a land far, far away...\n",
      "\n",
      "The sun was shining, and the moon was shining.\n",
      "\n",
      "The sun was shining, and the moon was shining.\n",
      "\n",
      "The sun was shining, and the moon was shining.\n",
      "\n",
      "The sun was shining, and the moon was shining.\n",
      "\n",
      "The sun was shining, and the moon was shining.\n",
      "\n",
      "The sun was shining, and the moon was shining.\n",
      "\n",
      "The sun was shining, and the moon\n"
     ]
    }
   ],
   "source": [
    "import requests\n",
    "\n",
    "url = \"http://127.0.0.1:8000/generate\"\n",
    "\n",
    "data = {\n",
    "    \"prompt\": \"Once upon a time in a land far, far away...\"\n",
    "}\n",
    "\n",
    "response = requests.post(url, json=data)\n",
    "\n",
    "if response.status_code == 200:\n",
    "    print(\"Generated Text:\", response.json()[\"generated_text\"])\n",
    "else:\n",
    "    print(\"Error:\", response.status_code, response.text)\n"
   ]
  },
  {
   "cell_type": "code",
   "execution_count": null,
   "id": "1f45cd75-a5f3-43c4-8753-b9af72016304",
   "metadata": {},
   "outputs": [],
   "source": []
  },
  {
   "cell_type": "code",
   "execution_count": null,
   "id": "8649d06d-3b44-47cd-b2d0-1c7be6831167",
   "metadata": {},
   "outputs": [],
   "source": []
  }
 ],
 "metadata": {
  "kernelspec": {
   "display_name": "Python 3 (ipykernel)",
   "language": "python",
   "name": "python3"
  },
  "language_info": {
   "codemirror_mode": {
    "name": "ipython",
    "version": 3
   },
   "file_extension": ".py",
   "mimetype": "text/x-python",
   "name": "python",
   "nbconvert_exporter": "python",
   "pygments_lexer": "ipython3",
   "version": "3.10.11"
  }
 },
 "nbformat": 4,
 "nbformat_minor": 5
}
