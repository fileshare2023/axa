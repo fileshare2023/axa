{
  "nbformat": 4,
  "nbformat_minor": 0,
  "metadata": {
    "colab": {
      "provenance": []
    },
    "kernelspec": {
      "name": "python3",
      "display_name": "Python 3"
    },
    "language_info": {
      "name": "python"
    }
  },
  "cells": [
    {
      "cell_type": "code",
      "execution_count": 5,
      "metadata": {
        "id": "qdra55Hj_g08"
      },
      "outputs": [],
      "source": [
        "#!pip install --upgrade langchain faiss-cpu\n",
        "#!pip install -U langchain-community"
      ]
    },
    {
      "cell_type": "code",
      "source": [
        "from langchain.chains import RetrievalQA\n",
        "from langchain.vectorstores import FAISS\n",
        "from langchain.embeddings import OpenAIEmbeddings\n",
        "from langchain.document_loaders import TextLoader\n",
        "from langchain.prompts import PromptTemplate\n",
        "from langchain.chat_models import ChatOpenAI\n",
        "from langchain.indexes import VectorstoreIndexCreator"
      ],
      "metadata": {
        "id": "ZJWLMpdN_oDN"
      },
      "execution_count": 7,
      "outputs": []
    },
    {
      "cell_type": "code",
      "source": [
        "with open(\"Employee_info.txt\") as f:\n",
        "    employee_info  = f.read()"
      ],
      "metadata": {
        "id": "uGFiwhkRAPST"
      },
      "execution_count": 8,
      "outputs": []
    },
    {
      "cell_type": "code",
      "source": [
        "documents = [employee_info]"
      ],
      "metadata": {
        "id": "Hy3_BCWrAgFf"
      },
      "execution_count": 10,
      "outputs": []
    },
    {
      "cell_type": "code",
      "source": [
        "from langchain.vectorstores import FAISS\n",
        "from langchain.embeddings import OpenAIEmbeddings"
      ],
      "metadata": {
        "id": "9PnugwAwAkpV"
      },
      "execution_count": 11,
      "outputs": []
    },
    {
      "cell_type": "code",
      "source": [
        "qa_pairs = [\n",
        "    {\"question\": \"Who is the highest-paid employee?\", \"answer\": \"Sonia Mittal, the Medical Doctor from Kolkata, is the highest-paid employee with a salary of 1,500,000.\"},\n",
        "    {\"question\": \"How many employees have more than 5 years of experience?\", \"answer\": \"There are 13 employees with more than 5 years of experience.\"},\n",
        "    {\"question\": \"What is the salary of the Marketing Manager from Mumbai?\", \"answer\": \"The Marketing Manager from Mumbai, Priya Sharma, has a salary of 1,200,000.\"},\n",
        "    {\"question\": \"Which city has the highest number of employees listed in the table?\", \"answer\": \"Chennai has the highest number of employees, with a total of 8.\"},\n",
        "    {\"question\": \"Who is the Software Architect and what is their salary?\", \"answer\": \"The Software Architect is Arjun Mehra, and his salary is 1,400,000.\"},\n",
        "    {\"question\": \"Which employee has the least years of experience and what is their designation?\", \"answer\": \"Rohan Mehra, the Civil Engineer Intern from Ahmedabad, has the least years of experience with 0.5 years.\"},\n",
        "    {\"question\": \"How many employees are located in Bangalore?\", \"answer\": \"There are 4 employees located in Bangalore.\"},\n",
        "    {\"question\": \"Who is the Financial Analyst and where are they based?\", \"answer\": \"The Financial Analyst is Isha Singh, and she is based in Jaipur.\"},\n",
        "    {\"question\": \"What is the total salary of all employees located in Pune?\", \"answer\": \"The total salary of all employees located in Pune is 4,210,000.\"},\n",
        "    {\"question\": \"Who is the employee with the longest tenure and what is their role?\", \"answer\": \"Sonia Mittal, the Medical Doctor from Kolkata, has the longest tenure with 12 years of experience.\"},\n",
        "    {\"question\": \"What is the salary difference between the Project Manager and the Software Developer Lead in Ahmedabad?\", \"answer\": \"The salary difference between the Project Manager (1,100,000) and the Software Developer Lead (1,350,000) in Ahmedabad is 250,000.\"},\n",
        "    {\"question\": \"Who are the two employees named Riya Chopra and what are their roles?\", \"answer\": \"Riya Chopra is a Civil Engineer from Delhi and a Biotechnologist from Delhi.\"},\n",
        "    {\"question\": \"What is the average salary of employees in Mumbai?\", \"answer\": \"The average salary of employees in Mumbai is 1,002,000.\"},\n",
        "    {\"question\": \"Which employee works as a User Experience Designer and what is their salary?\", \"answer\": \"Deepika Verma works as a User Experience Designer and her salary is 750,000.\"},\n",
        "    {\"question\": \"Who is the Quality Assurance Analyst and where are they located?\", \"answer\": \"Neha Joshi is the Quality Assurance Analyst and she is located in Pune.\"},\n",
        "    {\"question\": \"How many employees are listed as working in Hyderabad?\", \"answer\": \"There are 5 employees listed as working in Hyderabad.\"},\n",
        "    {\"question\": \"What is the designation of Kiara Kapoor and her salary?\", \"answer\": \"Kiara Kapoor is a Marketing Associate and her salary is 620,000.\"},\n",
        "    {\"question\": \"Which employee has a salary of 580,000 and what is their designation?\", \"answer\": \"Saira Khan, the Quality Control Inspector from Delhi, has a salary of 580,000.\"},\n",
        "    {\"question\": \"Who is the Sales Representative and what is their location?\", \"answer\": \"Vikram Bajaj is the Sales Representative located in Bengaluru.\"},\n",
        "    {\"question\": \"What is the combined salary of the two employees named Yash Birla?\", \"answer\": \"The combined salary of the two employees named Yash Birla is 2,330,000.\"}\n",
        "]\n"
      ],
      "metadata": {
        "id": "QkOwQhNSAm69"
      },
      "execution_count": 13,
      "outputs": []
    },
    {
      "cell_type": "code",
      "source": [
        "from sentence_transformers import SentenceTransformer\n",
        "import numpy as np\n",
        "import faiss\n",
        "\n",
        "# Step 1: Initialize the Sentence-Transformer model\n",
        "model = SentenceTransformer('all-MiniLM-L6-v2')  # You can use any pre-trained model\n",
        "\n",
        "\n",
        "# Step 3: Generate embeddings for the questions (for retrieval)\n",
        "questions = [pair[\"question\"] for pair in qa_pairs]\n",
        "question_embeddings = model.encode(questions, convert_to_numpy=True)\n",
        "\n",
        "# Step 4: Create a FAISS index for efficient nearest-neighbor search\n",
        "index = faiss.IndexFlatL2(question_embeddings.shape[1])  # L2 distance index\n",
        "index.add(question_embeddings)  # Add the embeddings to the index\n",
        "\n",
        "# Step 5: Function to retrieve the most relevant answer based on a user's query\n",
        "def simple_retriever(query):\n",
        "    query_embedding = model.encode([query], convert_to_numpy=True)  # Get embedding for the query\n",
        "\n",
        "    # Perform a nearest neighbor search in the FAISS index\n",
        "    _, indices = index.search(query_embedding, k=1)  # Get the index of the closest match\n",
        "\n",
        "    # Retrieve and return the corresponding answer\n",
        "    closest_pair = qa_pairs[indices[0][0]]\n",
        "    return closest_pair[\"answer\"]\n",
        "\n",
        "# Step 6: Ask a question and retrieve the answer\n",
        "query = \"Who is the highest-paid employee?\"\n",
        "response = simple_retriever(query)\n",
        "print(response)\n"
      ],
      "metadata": {
        "colab": {
          "base_uri": "https://localhost:8080/"
        },
        "id": "kQHNv_qhBHd4",
        "outputId": "b609079c-ca13-453a-f7d0-923fe31d5563"
      },
      "execution_count": 14,
      "outputs": [
        {
          "output_type": "stream",
          "name": "stdout",
          "text": [
            "Sonia Mittal, the Medical Doctor from Kolkata, is the highest-paid employee with a salary of 1,500,000.\n"
          ]
        }
      ]
    },
    {
      "cell_type": "code",
      "source": [],
      "metadata": {
        "id": "a_9VKWWLBOwb"
      },
      "execution_count": null,
      "outputs": []
    },
    {
      "cell_type": "code",
      "source": [],
      "metadata": {
        "id": "twD6lePAAo58"
      },
      "execution_count": null,
      "outputs": []
    },
    {
      "cell_type": "code",
      "source": [],
      "metadata": {
        "id": "bQQHHEXn_4Cw"
      },
      "execution_count": null,
      "outputs": []
    },
    {
      "cell_type": "code",
      "source": [],
      "metadata": {
        "id": "vh2Ggj_u_pwj"
      },
      "execution_count": null,
      "outputs": []
    },
    {
      "cell_type": "code",
      "source": [],
      "metadata": {
        "id": "kLiI00u0_iDJ"
      },
      "execution_count": null,
      "outputs": []
    }
  ]
}