{
 "cells": [
  {
   "cell_type": "code",
   "execution_count": 39,
   "id": "e43f2c2f-5130-40c8-b932-3a22957c6cc5",
   "metadata": {},
   "outputs": [
    {
     "data": {
      "application/vnd.jupyter.widget-view+json": {
       "model_id": "9d1c7252c6174d2e9313536ea0f1d2ce",
       "version_major": 2,
       "version_minor": 0
      },
      "text/plain": [
       "model.safetensors:  67%|######6   | 2.09G/3.13G [00:00<?, ?B/s]"
      ]
     },
     "metadata": {},
     "output_type": "display_data"
    },
    {
     "data": {
      "application/vnd.jupyter.widget-view+json": {
       "model_id": "263489c2cd674a29ad1ef8ce34cf2288",
       "version_major": 2,
       "version_minor": 0
      },
      "text/plain": [
       "generation_config.json:   0%|          | 0.00/142 [00:00<?, ?B/s]"
      ]
     },
     "metadata": {},
     "output_type": "display_data"
    },
    {
     "data": {
      "application/vnd.jupyter.widget-view+json": {
       "model_id": "095097607c7c46fab18b3025c744dc8a",
       "version_major": 2,
       "version_minor": 0
      },
      "text/plain": [
       "tokenizer_config.json:   0%|          | 0.00/2.35k [00:00<?, ?B/s]"
      ]
     },
     "metadata": {},
     "output_type": "display_data"
    },
    {
     "data": {
      "application/vnd.jupyter.widget-view+json": {
       "model_id": "8226b61baba0443184e832cb354d74a6",
       "version_major": 2,
       "version_minor": 0
      },
      "text/plain": [
       "spiece.model:   0%|          | 0.00/792k [00:00<?, ?B/s]"
      ]
     },
     "metadata": {},
     "output_type": "display_data"
    },
    {
     "data": {
      "application/vnd.jupyter.widget-view+json": {
       "model_id": "17c9ee63b2324e829a7cdae6cb7e8c34",
       "version_major": 2,
       "version_minor": 0
      },
      "text/plain": [
       "tokenizer.json:   0%|          | 0.00/2.42M [00:00<?, ?B/s]"
      ]
     },
     "metadata": {},
     "output_type": "display_data"
    },
    {
     "data": {
      "application/vnd.jupyter.widget-view+json": {
       "model_id": "4561f7e027ac4d4cbd7934c776353e13",
       "version_major": 2,
       "version_minor": 0
      },
      "text/plain": [
       "special_tokens_map.json:   0%|          | 0.00/2.20k [00:00<?, ?B/s]"
      ]
     },
     "metadata": {},
     "output_type": "display_data"
    },
    {
     "name": "stdout",
     "output_type": "stream",
     "text": [
      "Generated SQL Query: SELECT sum(monthly amount spent) FROM user\n",
      "Error: 1064 (42000): You have an error in your SQL syntax; check the manual that corresponds to your MySQL server version for the right syntax to use near 'amount spent) FROM user' at line 1\n"
     ]
    }
   ],
   "source": [
    "from transformers import pipeline\n",
    "#model_name = \"mrm8488/t5-base-finetuned-wikiSQL\"\n",
    "#nlp = pipeline(\"text2text-generation\", model=model_name)\n",
    "# Load the Hugging Face model for text-to-SQL\n",
    "#model_name = \"Salesforce/codegen-350M-mono\"  # You can choose a different model if needed\n",
    "#nlp = pipeline(\"text2text-generation\", model=model_name)\n",
    "model_name = \"gaussalgo/T5-LM-Large-text2sql-spider\"\n",
    "nlp = pipeline(\"text2text-generation\", model=model_name, tokenizer=model_name)\n",
    "\n",
    "# Function to process the user query into an SQL query\n",
    "def process_user_query_to_sql(user_query):\n",
    "    prompt = f\"Convert this natural language query to SQL: {user_query}\"\n",
    "\n",
    "    # Use the Hugging Face model to generate SQL query from the prompt\n",
    "    generated_sql = nlp(prompt)[0]['generated_text']\n",
    "    return generated_sql.strip()\n",
    "\n",
    "\n",
    "\n",
    "import mysql.connector\n",
    "\n",
    "# Function to execute SQL query and fetch results from the MySQL database\n",
    "def execute_sql_query(sql_query):\n",
    "    try:\n",
    "        # Connect to MySQL database\n",
    "        connection = mysql.connector.connect(\n",
    "            host='localhost',\n",
    "            user='root',\n",
    "            password='intel123',\n",
    "            database='sql101'\n",
    "        )\n",
    "        \n",
    "        cursor = connection.cursor(dictionary=True)\n",
    "        \n",
    "        # Execute the query\n",
    "        cursor.execute(sql_query)\n",
    "        \n",
    "        # Fetch results\n",
    "        results = cursor.fetchall()\n",
    "        \n",
    "        return results\n",
    "\n",
    "    except mysql.connector.Error as err:\n",
    "        print(f\"Error: {err}\")\n",
    "        return None\n",
    "    \n",
    "    finally:\n",
    "        if connection.is_connected():\n",
    "            cursor.close()\n",
    "            connection.close()\n",
    "\n",
    "\n",
    "\n",
    "def get_user_query_result(user_query):\n",
    "    # Generate SQL from natural language query using Hugging Face model\n",
    "    sql_query = process_user_query_to_sql(user_query)\n",
    "    print(f\"Generated SQL Query: {sql_query}\")\n",
    "    \n",
    "    # Execute the generated SQL query\n",
    "    result = execute_sql_query(sql_query)\n",
    "    \n",
    "    return result\n",
    "\n",
    "\n",
    "user_query = \"give me monthly amount spent by user\"\n",
    "result = get_user_query_result(user_query)\n",
    "\n",
    "# Print the result\n",
    "if result:\n",
    "    for row in result:\n",
    "        print(row)\n",
    "\n",
    "\n",
    "\n",
    "\n"
   ]
  },
  {
   "cell_type": "code",
   "execution_count": null,
   "id": "2dc23744-9867-45e8-8c27-a2059ec88ee7",
   "metadata": {},
   "outputs": [],
   "source": []
  },
  {
   "cell_type": "code",
   "execution_count": 35,
   "id": "e49bcb84-4c37-4cfb-859f-07817d5a330b",
   "metadata": {},
   "outputs": [
    {
     "name": "stderr",
     "output_type": "stream",
     "text": [
      "The `xla_device` argument has been deprecated in v4.4.0 of Transformers. It is ignored and you can safely remove it from your `config.json` file.\n",
      "The `xla_device` argument has been deprecated in v4.4.0 of Transformers. It is ignored and you can safely remove it from your `config.json` file.\n",
      "The `xla_device` argument has been deprecated in v4.4.0 of Transformers. It is ignored and you can safely remove it from your `config.json` file.\n",
      "The `xla_device` argument has been deprecated in v4.4.0 of Transformers. It is ignored and you can safely remove it from your `config.json` file.\n",
      "The `xla_device` argument has been deprecated in v4.4.0 of Transformers. It is ignored and you can safely remove it from your `config.json` file.\n"
     ]
    },
    {
     "name": "stdout",
     "output_type": "stream",
     "text": [
      "Generated SQL Query: FROM table WHERE Monthly Spending = monthly AND Monthly Spending = monthly AND User\n"
     ]
    }
   ],
   "source": [
    "from transformers import pipeline\n",
    "\n",
    "# Use a model specifically fine-tuned for text-to-SQL (WikiSQL is a popular dataset for this task)\n",
    "model_name = \"mrm8488/t5-base-finetuned-wikiSQL\"\n",
    "nlp = pipeline(\"text2text-generation\", model=model_name)\n",
    "\n",
    "# Function to process the user query into an SQL query\n",
    "def process_user_query_to_sql(user_query):\n",
    "    # Create a prompt with instructions for text-to-SQL conversion\n",
    "    prompt = f\"SELECT * FROM table WHERE {user_query}\"\n",
    "    \n",
    "    # Generate the SQL query using the Hugging Face model\n",
    "    generated_sql = nlp(prompt)[0]['generated_text']\n",
    "    return generated_sql.strip()\n",
    "\n",
    "# Example user query\n",
    "user_query = \"give me monthly amount spent by user\"\n",
    "generated_sql = process_user_query_to_sql(user_query)\n",
    "\n",
    "# Print the generated SQL query\n",
    "print(\"Generated SQL Query:\", generated_sql)\n"
   ]
  },
  {
   "cell_type": "code",
   "execution_count": null,
   "id": "8e1da0e1-19d3-4188-b3ba-21259fc43858",
   "metadata": {},
   "outputs": [],
   "source": []
  }
 ],
 "metadata": {
  "kernelspec": {
   "display_name": "Python 3 (ipykernel)",
   "language": "python",
   "name": "python3"
  },
  "language_info": {
   "codemirror_mode": {
    "name": "ipython",
    "version": 3
   },
   "file_extension": ".py",
   "mimetype": "text/x-python",
   "name": "python",
   "nbconvert_exporter": "python",
   "pygments_lexer": "ipython3",
   "version": "3.10.11"
  }
 },
 "nbformat": 4,
 "nbformat_minor": 5
}
