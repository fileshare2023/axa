{
 "cells": [
  {
   "cell_type": "code",
   "execution_count": 2,
   "id": "a6383642-cf81-474d-a29c-60df7c94ce54",
   "metadata": {},
   "outputs": [],
   "source": [
    "# 1.\tDefine variable types."
   ]
  },
  {
   "cell_type": "code",
   "execution_count": 3,
   "id": "69452b59-421e-43d3-9e66-c0cbd1a9a736",
   "metadata": {},
   "outputs": [],
   "source": [
    "import pandas as pd\n",
    "df = pd.read_csv(\"auto.csv\")"
   ]
  },
  {
   "cell_type": "code",
   "execution_count": 4,
   "id": "3d56692c-1fe6-4734-8d28-0e9340a59059",
   "metadata": {},
   "outputs": [
    {
     "data": {
      "text/html": [
       "<div>\n",
       "<style scoped>\n",
       "    .dataframe tbody tr th:only-of-type {\n",
       "        vertical-align: middle;\n",
       "    }\n",
       "\n",
       "    .dataframe tbody tr th {\n",
       "        vertical-align: top;\n",
       "    }\n",
       "\n",
       "    .dataframe thead th {\n",
       "        text-align: right;\n",
       "    }\n",
       "</style>\n",
       "<table border=\"1\" class=\"dataframe\">\n",
       "  <thead>\n",
       "    <tr style=\"text-align: right;\">\n",
       "      <th></th>\n",
       "      <th>Lead_Id</th>\n",
       "      <th>Within24</th>\n",
       "      <th>Within48</th>\n",
       "      <th>Within72</th>\n",
       "      <th>WithinWeek</th>\n",
       "      <th>WithinWeeks</th>\n",
       "      <th>WithinMonth</th>\n",
       "      <th>ContactByEmail</th>\n",
       "      <th>ContactByTelephone</th>\n",
       "      <th>DistanceToDealer</th>\n",
       "      <th>Car Value</th>\n",
       "      <th>LeadProvider_Id</th>\n",
       "      <th>Status</th>\n",
       "      <th>Manufacturer</th>\n",
       "      <th>Model</th>\n",
       "      <th>TradeInModelYear</th>\n",
       "      <th>City</th>\n",
       "      <th>State</th>\n",
       "    </tr>\n",
       "  </thead>\n",
       "  <tbody>\n",
       "    <tr>\n",
       "      <th>0</th>\n",
       "      <td>146</td>\n",
       "      <td>0</td>\n",
       "      <td>0</td>\n",
       "      <td>0</td>\n",
       "      <td>0</td>\n",
       "      <td>0</td>\n",
       "      <td>1</td>\n",
       "      <td>0</td>\n",
       "      <td>1</td>\n",
       "      <td>28.88</td>\n",
       "      <td>7319</td>\n",
       "      <td>LP001</td>\n",
       "      <td>NEW</td>\n",
       "      <td>Toyota</td>\n",
       "      <td>Highlander</td>\n",
       "      <td>2003</td>\n",
       "      <td>Pell City</td>\n",
       "      <td>AL</td>\n",
       "    </tr>\n",
       "    <tr>\n",
       "      <th>1</th>\n",
       "      <td>226</td>\n",
       "      <td>0</td>\n",
       "      <td>0</td>\n",
       "      <td>0</td>\n",
       "      <td>0</td>\n",
       "      <td>1</td>\n",
       "      <td>0</td>\n",
       "      <td>0</td>\n",
       "      <td>1</td>\n",
       "      <td>34.15</td>\n",
       "      <td>4563</td>\n",
       "      <td>LP006</td>\n",
       "      <td>USED</td>\n",
       "      <td>Chevrolet</td>\n",
       "      <td>Suburban</td>\n",
       "      <td>1996</td>\n",
       "      <td>Payson</td>\n",
       "      <td>AZ</td>\n",
       "    </tr>\n",
       "    <tr>\n",
       "      <th>2</th>\n",
       "      <td>166</td>\n",
       "      <td>0</td>\n",
       "      <td>0</td>\n",
       "      <td>0</td>\n",
       "      <td>0</td>\n",
       "      <td>0</td>\n",
       "      <td>1</td>\n",
       "      <td>0</td>\n",
       "      <td>1</td>\n",
       "      <td>29.42</td>\n",
       "      <td>8046</td>\n",
       "      <td>LP009</td>\n",
       "      <td>NEW</td>\n",
       "      <td>Toyota</td>\n",
       "      <td>Avalon</td>\n",
       "      <td>2007</td>\n",
       "      <td>Farmington</td>\n",
       "      <td>NM</td>\n",
       "    </tr>\n",
       "  </tbody>\n",
       "</table>\n",
       "</div>"
      ],
      "text/plain": [
       "   Lead_Id  Within24  Within48  Within72  WithinWeek  WithinWeeks  \\\n",
       "0      146         0         0         0           0            0   \n",
       "1      226         0         0         0           0            1   \n",
       "2      166         0         0         0           0            0   \n",
       "\n",
       "   WithinMonth  ContactByEmail  ContactByTelephone  DistanceToDealer  \\\n",
       "0            1               0                   1             28.88   \n",
       "1            0               0                   1             34.15   \n",
       "2            1               0                   1             29.42   \n",
       "\n",
       "   Car Value LeadProvider_Id Status Manufacturer       Model  \\\n",
       "0       7319           LP001    NEW       Toyota  Highlander   \n",
       "1       4563           LP006   USED    Chevrolet    Suburban   \n",
       "2       8046           LP009    NEW       Toyota      Avalon   \n",
       "\n",
       "   TradeInModelYear        City State  \n",
       "0              2003   Pell City    AL  \n",
       "1              1996      Payson    AZ  \n",
       "2              2007  Farmington    NM  "
      ]
     },
     "execution_count": 4,
     "metadata": {},
     "output_type": "execute_result"
    }
   ],
   "source": [
    "df.head(3)"
   ]
  },
  {
   "cell_type": "code",
   "execution_count": 5,
   "id": "624ec46a-2aa8-4c46-87a3-715ec1957b52",
   "metadata": {},
   "outputs": [
    {
     "name": "stdout",
     "output_type": "stream",
     "text": [
      "<class 'pandas.core.frame.DataFrame'>\n",
      "RangeIndex: 1499 entries, 0 to 1498\n",
      "Data columns (total 18 columns):\n",
      " #   Column              Non-Null Count  Dtype  \n",
      "---  ------              --------------  -----  \n",
      " 0   Lead_Id             1499 non-null   int64  \n",
      " 1   Within24            1499 non-null   int64  \n",
      " 2   Within48            1499 non-null   int64  \n",
      " 3   Within72            1499 non-null   int64  \n",
      " 4   WithinWeek          1499 non-null   int64  \n",
      " 5   WithinWeeks         1499 non-null   int64  \n",
      " 6   WithinMonth         1499 non-null   int64  \n",
      " 7   ContactByEmail      1499 non-null   int64  \n",
      " 8   ContactByTelephone  1499 non-null   int64  \n",
      " 9   DistanceToDealer    1499 non-null   float64\n",
      " 10  Car Value           1499 non-null   int64  \n",
      " 11  LeadProvider_Id     1499 non-null   object \n",
      " 12  Status              1499 non-null   object \n",
      " 13  Manufacturer        1499 non-null   object \n",
      " 14  Model               1499 non-null   object \n",
      " 15  TradeInModelYear    1499 non-null   int64  \n",
      " 16  City                1499 non-null   object \n",
      " 17  State               1499 non-null   object \n",
      "dtypes: float64(1), int64(11), object(6)\n",
      "memory usage: 210.9+ KB\n"
     ]
    }
   ],
   "source": [
    "df.info()"
   ]
  },
  {
   "cell_type": "code",
   "execution_count": 6,
   "id": "e3ec2cf6-db88-45e7-bfe0-ac99a4fa8537",
   "metadata": {},
   "outputs": [
    {
     "data": {
      "text/plain": [
       "Lead_Id                 int64\n",
       "Within24                int64\n",
       "Within48                int64\n",
       "Within72                int64\n",
       "WithinWeek              int64\n",
       "WithinWeeks             int64\n",
       "WithinMonth             int64\n",
       "ContactByEmail          int64\n",
       "ContactByTelephone      int64\n",
       "DistanceToDealer      float64\n",
       "Car Value               int64\n",
       "LeadProvider_Id        object\n",
       "Status                 object\n",
       "Manufacturer           object\n",
       "Model                  object\n",
       "TradeInModelYear        int64\n",
       "City                   object\n",
       "State                  object\n",
       "dtype: object"
      ]
     },
     "execution_count": 6,
     "metadata": {},
     "output_type": "execute_result"
    }
   ],
   "source": [
    "df.dtypes"
   ]
  },
  {
   "cell_type": "code",
   "execution_count": 7,
   "id": "89ffacd9-d951-44d4-af80-6d372f2bd6e1",
   "metadata": {},
   "outputs": [
    {
     "data": {
      "text/html": [
       "<div>\n",
       "<style scoped>\n",
       "    .dataframe tbody tr th:only-of-type {\n",
       "        vertical-align: middle;\n",
       "    }\n",
       "\n",
       "    .dataframe tbody tr th {\n",
       "        vertical-align: top;\n",
       "    }\n",
       "\n",
       "    .dataframe thead th {\n",
       "        text-align: right;\n",
       "    }\n",
       "</style>\n",
       "<table border=\"1\" class=\"dataframe\">\n",
       "  <thead>\n",
       "    <tr style=\"text-align: right;\">\n",
       "      <th></th>\n",
       "      <th>count</th>\n",
       "      <th>mean</th>\n",
       "      <th>std</th>\n",
       "      <th>min</th>\n",
       "      <th>25%</th>\n",
       "      <th>50%</th>\n",
       "      <th>75%</th>\n",
       "      <th>max</th>\n",
       "    </tr>\n",
       "  </thead>\n",
       "  <tbody>\n",
       "    <tr>\n",
       "      <th>Lead_Id</th>\n",
       "      <td>1499.0</td>\n",
       "      <td>710.554370</td>\n",
       "      <td>429.751722</td>\n",
       "      <td>7.00</td>\n",
       "      <td>332.500</td>\n",
       "      <td>708.00</td>\n",
       "      <td>1083.50</td>\n",
       "      <td>1458.00</td>\n",
       "    </tr>\n",
       "    <tr>\n",
       "      <th>Within24</th>\n",
       "      <td>1499.0</td>\n",
       "      <td>0.000000</td>\n",
       "      <td>0.000000</td>\n",
       "      <td>0.00</td>\n",
       "      <td>0.000</td>\n",
       "      <td>0.00</td>\n",
       "      <td>0.00</td>\n",
       "      <td>0.00</td>\n",
       "    </tr>\n",
       "    <tr>\n",
       "      <th>Within48</th>\n",
       "      <td>1499.0</td>\n",
       "      <td>0.050033</td>\n",
       "      <td>0.218087</td>\n",
       "      <td>0.00</td>\n",
       "      <td>0.000</td>\n",
       "      <td>0.00</td>\n",
       "      <td>0.00</td>\n",
       "      <td>1.00</td>\n",
       "    </tr>\n",
       "    <tr>\n",
       "      <th>Within72</th>\n",
       "      <td>1499.0</td>\n",
       "      <td>0.004003</td>\n",
       "      <td>0.063161</td>\n",
       "      <td>0.00</td>\n",
       "      <td>0.000</td>\n",
       "      <td>0.00</td>\n",
       "      <td>0.00</td>\n",
       "      <td>1.00</td>\n",
       "    </tr>\n",
       "    <tr>\n",
       "      <th>WithinWeek</th>\n",
       "      <td>1499.0</td>\n",
       "      <td>0.038025</td>\n",
       "      <td>0.191321</td>\n",
       "      <td>0.00</td>\n",
       "      <td>0.000</td>\n",
       "      <td>0.00</td>\n",
       "      <td>0.00</td>\n",
       "      <td>1.00</td>\n",
       "    </tr>\n",
       "    <tr>\n",
       "      <th>WithinWeeks</th>\n",
       "      <td>1499.0</td>\n",
       "      <td>0.240827</td>\n",
       "      <td>0.427728</td>\n",
       "      <td>0.00</td>\n",
       "      <td>0.000</td>\n",
       "      <td>0.00</td>\n",
       "      <td>0.00</td>\n",
       "      <td>1.00</td>\n",
       "    </tr>\n",
       "    <tr>\n",
       "      <th>WithinMonth</th>\n",
       "      <td>1499.0</td>\n",
       "      <td>0.362909</td>\n",
       "      <td>0.480999</td>\n",
       "      <td>0.00</td>\n",
       "      <td>0.000</td>\n",
       "      <td>0.00</td>\n",
       "      <td>1.00</td>\n",
       "      <td>1.00</td>\n",
       "    </tr>\n",
       "    <tr>\n",
       "      <th>ContactByEmail</th>\n",
       "      <td>1499.0</td>\n",
       "      <td>0.001334</td>\n",
       "      <td>0.036515</td>\n",
       "      <td>0.00</td>\n",
       "      <td>0.000</td>\n",
       "      <td>0.00</td>\n",
       "      <td>0.00</td>\n",
       "      <td>1.00</td>\n",
       "    </tr>\n",
       "    <tr>\n",
       "      <th>ContactByTelephone</th>\n",
       "      <td>1499.0</td>\n",
       "      <td>0.997999</td>\n",
       "      <td>0.044706</td>\n",
       "      <td>0.00</td>\n",
       "      <td>1.000</td>\n",
       "      <td>1.00</td>\n",
       "      <td>1.00</td>\n",
       "      <td>1.00</td>\n",
       "    </tr>\n",
       "    <tr>\n",
       "      <th>DistanceToDealer</th>\n",
       "      <td>1499.0</td>\n",
       "      <td>65.459753</td>\n",
       "      <td>201.486551</td>\n",
       "      <td>0.63</td>\n",
       "      <td>27.264</td>\n",
       "      <td>33.49</td>\n",
       "      <td>44.67</td>\n",
       "      <td>3349.26</td>\n",
       "    </tr>\n",
       "    <tr>\n",
       "      <th>Car Value</th>\n",
       "      <td>1499.0</td>\n",
       "      <td>5892.891928</td>\n",
       "      <td>2351.227710</td>\n",
       "      <td>2007.00</td>\n",
       "      <td>3785.000</td>\n",
       "      <td>5900.00</td>\n",
       "      <td>7865.50</td>\n",
       "      <td>9999.00</td>\n",
       "    </tr>\n",
       "    <tr>\n",
       "      <th>TradeInModelYear</th>\n",
       "      <td>1499.0</td>\n",
       "      <td>2002.007338</td>\n",
       "      <td>3.787489</td>\n",
       "      <td>1996.00</td>\n",
       "      <td>1999.000</td>\n",
       "      <td>2002.00</td>\n",
       "      <td>2005.00</td>\n",
       "      <td>2008.00</td>\n",
       "    </tr>\n",
       "  </tbody>\n",
       "</table>\n",
       "</div>"
      ],
      "text/plain": [
       "                     count         mean          std      min       25%  \\\n",
       "Lead_Id             1499.0   710.554370   429.751722     7.00   332.500   \n",
       "Within24            1499.0     0.000000     0.000000     0.00     0.000   \n",
       "Within48            1499.0     0.050033     0.218087     0.00     0.000   \n",
       "Within72            1499.0     0.004003     0.063161     0.00     0.000   \n",
       "WithinWeek          1499.0     0.038025     0.191321     0.00     0.000   \n",
       "WithinWeeks         1499.0     0.240827     0.427728     0.00     0.000   \n",
       "WithinMonth         1499.0     0.362909     0.480999     0.00     0.000   \n",
       "ContactByEmail      1499.0     0.001334     0.036515     0.00     0.000   \n",
       "ContactByTelephone  1499.0     0.997999     0.044706     0.00     1.000   \n",
       "DistanceToDealer    1499.0    65.459753   201.486551     0.63    27.264   \n",
       "Car Value           1499.0  5892.891928  2351.227710  2007.00  3785.000   \n",
       "TradeInModelYear    1499.0  2002.007338     3.787489  1996.00  1999.000   \n",
       "\n",
       "                        50%      75%      max  \n",
       "Lead_Id              708.00  1083.50  1458.00  \n",
       "Within24               0.00     0.00     0.00  \n",
       "Within48               0.00     0.00     1.00  \n",
       "Within72               0.00     0.00     1.00  \n",
       "WithinWeek             0.00     0.00     1.00  \n",
       "WithinWeeks            0.00     0.00     1.00  \n",
       "WithinMonth            0.00     1.00     1.00  \n",
       "ContactByEmail         0.00     0.00     1.00  \n",
       "ContactByTelephone     1.00     1.00     1.00  \n",
       "DistanceToDealer      33.49    44.67  3349.26  \n",
       "Car Value           5900.00  7865.50  9999.00  \n",
       "TradeInModelYear    2002.00  2005.00  2008.00  "
      ]
     },
     "execution_count": 7,
     "metadata": {},
     "output_type": "execute_result"
    }
   ],
   "source": [
    "# 2.\tGive summary of each variables.\n",
    "df.describe().T"
   ]
  },
  {
   "cell_type": "code",
   "execution_count": 8,
   "id": "6c839217-63ff-46d1-a123-0ce84fdeab38",
   "metadata": {},
   "outputs": [
    {
     "data": {
      "text/html": [
       "<div>\n",
       "<style scoped>\n",
       "    .dataframe tbody tr th:only-of-type {\n",
       "        vertical-align: middle;\n",
       "    }\n",
       "\n",
       "    .dataframe tbody tr th {\n",
       "        vertical-align: top;\n",
       "    }\n",
       "\n",
       "    .dataframe thead th {\n",
       "        text-align: right;\n",
       "    }\n",
       "</style>\n",
       "<table border=\"1\" class=\"dataframe\">\n",
       "  <thead>\n",
       "    <tr style=\"text-align: right;\">\n",
       "      <th></th>\n",
       "      <th>LeadProvider_Id</th>\n",
       "      <th>Status</th>\n",
       "      <th>Manufacturer</th>\n",
       "      <th>Model</th>\n",
       "      <th>City</th>\n",
       "      <th>State</th>\n",
       "    </tr>\n",
       "  </thead>\n",
       "  <tbody>\n",
       "    <tr>\n",
       "      <th>count</th>\n",
       "      <td>1499</td>\n",
       "      <td>1499</td>\n",
       "      <td>1499</td>\n",
       "      <td>1499</td>\n",
       "      <td>1499</td>\n",
       "      <td>1499</td>\n",
       "    </tr>\n",
       "    <tr>\n",
       "      <th>unique</th>\n",
       "      <td>10</td>\n",
       "      <td>2</td>\n",
       "      <td>15</td>\n",
       "      <td>43</td>\n",
       "      <td>20</td>\n",
       "      <td>7</td>\n",
       "    </tr>\n",
       "    <tr>\n",
       "      <th>top</th>\n",
       "      <td>LP005</td>\n",
       "      <td>NEW</td>\n",
       "      <td>Toyota</td>\n",
       "      <td>Accent</td>\n",
       "      <td>San Francisco</td>\n",
       "      <td>CA</td>\n",
       "    </tr>\n",
       "    <tr>\n",
       "      <th>freq</th>\n",
       "      <td>170</td>\n",
       "      <td>1373</td>\n",
       "      <td>156</td>\n",
       "      <td>48</td>\n",
       "      <td>95</td>\n",
       "      <td>350</td>\n",
       "    </tr>\n",
       "  </tbody>\n",
       "</table>\n",
       "</div>"
      ],
      "text/plain": [
       "       LeadProvider_Id Status Manufacturer   Model           City State\n",
       "count             1499   1499         1499    1499           1499  1499\n",
       "unique              10      2           15      43             20     7\n",
       "top              LP005    NEW       Toyota  Accent  San Francisco    CA\n",
       "freq               170   1373          156      48             95   350"
      ]
     },
     "execution_count": 8,
     "metadata": {},
     "output_type": "execute_result"
    }
   ],
   "source": [
    "df.describe(include=\"O\")"
   ]
  },
  {
   "cell_type": "code",
   "execution_count": 9,
   "id": "24015c4d-4b2a-489c-aa69-6a6931a2822e",
   "metadata": {},
   "outputs": [
    {
     "data": {
      "text/html": [
       "<div>\n",
       "<style scoped>\n",
       "    .dataframe tbody tr th:only-of-type {\n",
       "        vertical-align: middle;\n",
       "    }\n",
       "\n",
       "    .dataframe tbody tr th {\n",
       "        vertical-align: top;\n",
       "    }\n",
       "\n",
       "    .dataframe thead th {\n",
       "        text-align: right;\n",
       "    }\n",
       "</style>\n",
       "<table border=\"1\" class=\"dataframe\">\n",
       "  <thead>\n",
       "    <tr style=\"text-align: right;\">\n",
       "      <th></th>\n",
       "      <th>Lead_Id</th>\n",
       "      <th>Within24</th>\n",
       "      <th>Within48</th>\n",
       "      <th>Within72</th>\n",
       "      <th>WithinWeek</th>\n",
       "      <th>WithinWeeks</th>\n",
       "      <th>WithinMonth</th>\n",
       "      <th>ContactByEmail</th>\n",
       "      <th>ContactByTelephone</th>\n",
       "      <th>DistanceToDealer</th>\n",
       "      <th>Car Value</th>\n",
       "      <th>LeadProvider_Id</th>\n",
       "      <th>Status</th>\n",
       "      <th>Manufacturer</th>\n",
       "      <th>Model</th>\n",
       "      <th>TradeInModelYear</th>\n",
       "      <th>City</th>\n",
       "      <th>State</th>\n",
       "    </tr>\n",
       "  </thead>\n",
       "  <tbody>\n",
       "    <tr>\n",
       "      <th>0</th>\n",
       "      <td>146</td>\n",
       "      <td>0</td>\n",
       "      <td>0</td>\n",
       "      <td>0</td>\n",
       "      <td>0</td>\n",
       "      <td>0</td>\n",
       "      <td>1</td>\n",
       "      <td>0</td>\n",
       "      <td>1</td>\n",
       "      <td>28.88</td>\n",
       "      <td>7319</td>\n",
       "      <td>LP001</td>\n",
       "      <td>NEW</td>\n",
       "      <td>Toyota</td>\n",
       "      <td>Highlander</td>\n",
       "      <td>2003</td>\n",
       "      <td>Pell City</td>\n",
       "      <td>AL</td>\n",
       "    </tr>\n",
       "    <tr>\n",
       "      <th>1</th>\n",
       "      <td>226</td>\n",
       "      <td>0</td>\n",
       "      <td>0</td>\n",
       "      <td>0</td>\n",
       "      <td>0</td>\n",
       "      <td>1</td>\n",
       "      <td>0</td>\n",
       "      <td>0</td>\n",
       "      <td>1</td>\n",
       "      <td>34.15</td>\n",
       "      <td>4563</td>\n",
       "      <td>LP006</td>\n",
       "      <td>USED</td>\n",
       "      <td>Chevrolet</td>\n",
       "      <td>Suburban</td>\n",
       "      <td>1996</td>\n",
       "      <td>Payson</td>\n",
       "      <td>AZ</td>\n",
       "    </tr>\n",
       "    <tr>\n",
       "      <th>2</th>\n",
       "      <td>166</td>\n",
       "      <td>0</td>\n",
       "      <td>0</td>\n",
       "      <td>0</td>\n",
       "      <td>0</td>\n",
       "      <td>0</td>\n",
       "      <td>1</td>\n",
       "      <td>0</td>\n",
       "      <td>1</td>\n",
       "      <td>29.42</td>\n",
       "      <td>8046</td>\n",
       "      <td>LP009</td>\n",
       "      <td>NEW</td>\n",
       "      <td>Toyota</td>\n",
       "      <td>Avalon</td>\n",
       "      <td>2007</td>\n",
       "      <td>Farmington</td>\n",
       "      <td>NM</td>\n",
       "    </tr>\n",
       "    <tr>\n",
       "      <th>3</th>\n",
       "      <td>291</td>\n",
       "      <td>0</td>\n",
       "      <td>0</td>\n",
       "      <td>0</td>\n",
       "      <td>1</td>\n",
       "      <td>0</td>\n",
       "      <td>0</td>\n",
       "      <td>0</td>\n",
       "      <td>1</td>\n",
       "      <td>110.76</td>\n",
       "      <td>5025</td>\n",
       "      <td>LP010</td>\n",
       "      <td>USED</td>\n",
       "      <td>Ferrari</td>\n",
       "      <td>F1</td>\n",
       "      <td>1997</td>\n",
       "      <td>Conway</td>\n",
       "      <td>AR</td>\n",
       "    </tr>\n",
       "    <tr>\n",
       "      <th>4</th>\n",
       "      <td>102</td>\n",
       "      <td>0</td>\n",
       "      <td>0</td>\n",
       "      <td>0</td>\n",
       "      <td>0</td>\n",
       "      <td>1</td>\n",
       "      <td>0</td>\n",
       "      <td>0</td>\n",
       "      <td>1</td>\n",
       "      <td>37.09</td>\n",
       "      <td>4826</td>\n",
       "      <td>LP002</td>\n",
       "      <td>NEW</td>\n",
       "      <td>BMW</td>\n",
       "      <td>7 Series</td>\n",
       "      <td>2001</td>\n",
       "      <td>San Francisco</td>\n",
       "      <td>CA</td>\n",
       "    </tr>\n",
       "  </tbody>\n",
       "</table>\n",
       "</div>"
      ],
      "text/plain": [
       "   Lead_Id  Within24  Within48  Within72  WithinWeek  WithinWeeks  \\\n",
       "0      146         0         0         0           0            0   \n",
       "1      226         0         0         0           0            1   \n",
       "2      166         0         0         0           0            0   \n",
       "3      291         0         0         0           1            0   \n",
       "4      102         0         0         0           0            1   \n",
       "\n",
       "   WithinMonth  ContactByEmail  ContactByTelephone  DistanceToDealer  \\\n",
       "0            1               0                   1             28.88   \n",
       "1            0               0                   1             34.15   \n",
       "2            1               0                   1             29.42   \n",
       "3            0               0                   1            110.76   \n",
       "4            0               0                   1             37.09   \n",
       "\n",
       "   Car Value LeadProvider_Id Status Manufacturer       Model  \\\n",
       "0       7319           LP001    NEW       Toyota  Highlander   \n",
       "1       4563           LP006   USED    Chevrolet    Suburban   \n",
       "2       8046           LP009    NEW       Toyota      Avalon   \n",
       "3       5025           LP010   USED      Ferrari          F1   \n",
       "4       4826           LP002    NEW          BMW    7 Series   \n",
       "\n",
       "   TradeInModelYear           City State  \n",
       "0              2003      Pell City    AL  \n",
       "1              1996         Payson    AZ  \n",
       "2              2007     Farmington    NM  \n",
       "3              1997         Conway    AR  \n",
       "4              2001  San Francisco    CA  "
      ]
     },
     "execution_count": 9,
     "metadata": {},
     "output_type": "execute_result"
    }
   ],
   "source": [
    "df.head()"
   ]
  },
  {
   "cell_type": "code",
   "execution_count": 10,
   "id": "7950bf4a-ac93-4934-b6e8-3226ca04e84c",
   "metadata": {},
   "outputs": [
    {
     "data": {
      "text/plain": [
       "ContactByEmail\n",
       "0    1497\n",
       "1       2\n",
       "Name: count, dtype: int64"
      ]
     },
     "execution_count": 10,
     "metadata": {},
     "output_type": "execute_result"
    }
   ],
   "source": [
    "df['ContactByEmail'].value_counts()"
   ]
  },
  {
   "cell_type": "code",
   "execution_count": 11,
   "id": "a4e3c64d-43c5-4302-b00b-e8017a2c506c",
   "metadata": {},
   "outputs": [
    {
     "data": {
      "text/plain": [
       "ContactByTelephone\n",
       "1    1496\n",
       "0       3\n",
       "Name: count, dtype: int64"
      ]
     },
     "execution_count": 11,
     "metadata": {},
     "output_type": "execute_result"
    }
   ],
   "source": [
    "df['ContactByTelephone'].value_counts()"
   ]
  },
  {
   "cell_type": "code",
   "execution_count": 12,
   "id": "c976f892-0ad0-405a-829d-ea31208ac66a",
   "metadata": {},
   "outputs": [
    {
     "data": {
      "text/plain": [
       "2"
      ]
     },
     "execution_count": 12,
     "metadata": {},
     "output_type": "execute_result"
    }
   ],
   "source": [
    "df['ContactByEmail'].sum()"
   ]
  },
  {
   "cell_type": "code",
   "execution_count": 13,
   "id": "9dafd2cd-395b-4e14-8217-19cb375b4f86",
   "metadata": {},
   "outputs": [
    {
     "data": {
      "text/plain": [
       "1496"
      ]
     },
     "execution_count": 13,
     "metadata": {},
     "output_type": "execute_result"
    }
   ],
   "source": [
    "df['ContactByTelephone'].sum()"
   ]
  },
  {
   "cell_type": "code",
   "execution_count": 14,
   "id": "19715dea-6f1b-4b01-943b-f78a433604a8",
   "metadata": {},
   "outputs": [
    {
     "data": {
      "text/plain": [
       "ContactByTelephone    1496\n",
       "ContactByEmail           2\n",
       "dtype: int64"
      ]
     },
     "execution_count": 14,
     "metadata": {},
     "output_type": "execute_result"
    }
   ],
   "source": [
    "df[['ContactByTelephone','ContactByEmail']].sum()"
   ]
  },
  {
   "cell_type": "code",
   "execution_count": 15,
   "id": "517e4d27-26aa-42ae-9e20-1c2fb6fc8310",
   "metadata": {},
   "outputs": [],
   "source": [
    "x = pd.Series([123,45,67,90,9],index=['A',\"B\",\"C\",\"D\",\"E\"])"
   ]
  },
  {
   "cell_type": "code",
   "execution_count": 16,
   "id": "af2577d9-162f-4f35-a219-012df8cbd108",
   "metadata": {},
   "outputs": [
    {
     "data": {
      "text/plain": [
       "A    123\n",
       "B     45\n",
       "C     67\n",
       "D     90\n",
       "E      9\n",
       "dtype: int64"
      ]
     },
     "execution_count": 16,
     "metadata": {},
     "output_type": "execute_result"
    }
   ],
   "source": [
    "x"
   ]
  },
  {
   "cell_type": "code",
   "execution_count": 17,
   "id": "781dd928-8a6f-48cf-ad03-9fe2feb86b08",
   "metadata": {},
   "outputs": [
    {
     "data": {
      "text/plain": [
       "'A'"
      ]
     },
     "execution_count": 17,
     "metadata": {},
     "output_type": "execute_result"
    }
   ],
   "source": [
    "x.idxmax() # get the index of max value"
   ]
  },
  {
   "cell_type": "code",
   "execution_count": 18,
   "id": "751f4128-e79b-4e0d-ada1-11e95be4e5f3",
   "metadata": {},
   "outputs": [
    {
     "data": {
      "text/plain": [
       "'E'"
      ]
     },
     "execution_count": 18,
     "metadata": {},
     "output_type": "execute_result"
    }
   ],
   "source": [
    "x.idxmin() # get the index of min value"
   ]
  },
  {
   "cell_type": "code",
   "execution_count": null,
   "id": "8564b623-1fc0-49b5-a654-521fa5fe3335",
   "metadata": {},
   "outputs": [],
   "source": []
  },
  {
   "cell_type": "code",
   "execution_count": 19,
   "id": "86af855a-5d42-4b62-bbb2-4e6e8e9ea008",
   "metadata": {},
   "outputs": [
    {
     "data": {
      "text/plain": [
       "'ContactByTelephone'"
      ]
     },
     "execution_count": 19,
     "metadata": {},
     "output_type": "execute_result"
    }
   ],
   "source": [
    "# 3.\tWhich is the most commonly used mode of contact? \n",
    "df[['ContactByTelephone','ContactByEmail']].sum().idxmax()"
   ]
  },
  {
   "cell_type": "code",
   "execution_count": null,
   "id": "fa1e98fc-6926-42bb-962b-dd70700c0962",
   "metadata": {},
   "outputs": [],
   "source": []
  },
  {
   "cell_type": "code",
   "execution_count": 20,
   "id": "dc63ff9e-9a20-4dac-b066-edf14c39b65e",
   "metadata": {},
   "outputs": [
    {
     "data": {
      "text/plain": [
       "'WithinMonth'"
      ]
     },
     "execution_count": 20,
     "metadata": {},
     "output_type": "execute_result"
    }
   ],
   "source": [
    "#4.\tWithin what period of time most leads would prefer to buy the car?\n",
    "\n",
    "df.iloc[0:,1:7].sum().idxmax()"
   ]
  },
  {
   "cell_type": "code",
   "execution_count": 21,
   "id": "c58801ef-eb94-4a34-8c95-ac6f6b2ccaad",
   "metadata": {},
   "outputs": [
    {
     "data": {
      "text/plain": [
       "544"
      ]
     },
     "execution_count": 21,
     "metadata": {},
     "output_type": "execute_result"
    }
   ],
   "source": [
    "df.iloc[0:,1:7].sum().max()"
   ]
  },
  {
   "cell_type": "code",
   "execution_count": 22,
   "id": "3488e466-192b-4ae7-ab59-6d71d5eb8db7",
   "metadata": {},
   "outputs": [],
   "source": [
    "ans4 = df.iloc[0:,1:7].sum()"
   ]
  },
  {
   "cell_type": "code",
   "execution_count": 23,
   "id": "3dd49db1-2397-4a4d-8de4-c0956ae48d9d",
   "metadata": {},
   "outputs": [],
   "source": [
    "ans4.sort_values(inplace=True)"
   ]
  },
  {
   "cell_type": "code",
   "execution_count": 24,
   "id": "180d79f4-ac32-408b-ab99-884fd0ab2a2b",
   "metadata": {},
   "outputs": [
    {
     "data": {
      "text/plain": [
       "WithinMonth    544\n",
       "dtype: int64"
      ]
     },
     "execution_count": 24,
     "metadata": {},
     "output_type": "execute_result"
    }
   ],
   "source": [
    "ans4.tail(1)"
   ]
  },
  {
   "cell_type": "code",
   "execution_count": 25,
   "id": "cf0aefcb-2714-494d-82a4-fccd63bef406",
   "metadata": {},
   "outputs": [
    {
     "data": {
      "text/plain": [
       "LeadProvider_Id\n",
       "LP005    170\n",
       "LP002    163\n",
       "LP007    160\n",
       "LP003    160\n",
       "LP001    157\n",
       "LP004    150\n",
       "LP006    141\n",
       "LP009    137\n",
       "LP010    132\n",
       "LP008    129\n",
       "Name: count, dtype: int64"
      ]
     },
     "execution_count": 25,
     "metadata": {},
     "output_type": "execute_result"
    }
   ],
   "source": [
    "# 5.\tWho is the best and worst lead provider?\n",
    "df['LeadProvider_Id'].value_counts()"
   ]
  },
  {
   "cell_type": "code",
   "execution_count": 26,
   "id": "a833b0f2-a631-48fd-bb0b-122b658557cc",
   "metadata": {},
   "outputs": [
    {
     "data": {
      "text/plain": [
       "Status\n",
       "NEW     1373\n",
       "USED     126\n",
       "Name: count, dtype: int64"
      ]
     },
     "execution_count": 26,
     "metadata": {},
     "output_type": "execute_result"
    }
   ],
   "source": [
    "# 6.\tDo most of the customers prefer to buy new car?\n",
    "df['Status'].value_counts()"
   ]
  },
  {
   "cell_type": "raw",
   "id": "5710c8e9-ff34-4e03-9c70-825cb0f42c30",
   "metadata": {},
   "source": [
    "# 7.\tGive the list of states with their car model name which is in more demand there?"
   ]
  },
  {
   "cell_type": "code",
   "execution_count": 27,
   "id": "2b5c2a9e-e8e3-43d6-b425-d25ef62611e3",
   "metadata": {},
   "outputs": [],
   "source": [
    "ans7=df.groupby([\"State\",\"Manufacturer\",\"Model\"])['Lead_Id'].count().reset_index().rename(columns={'Lead_Id':'count'})"
   ]
  },
  {
   "cell_type": "code",
   "execution_count": 28,
   "id": "41a6c743-782b-4a29-8d1c-7a4e579fca56",
   "metadata": {},
   "outputs": [],
   "source": [
    "ans7.sort_values([\"State\",\"count\"],ascending=[True,False],inplace=True)"
   ]
  },
  {
   "cell_type": "code",
   "execution_count": 29,
   "id": "524711e4-b739-4e64-8113-8a9e66ab5a59",
   "metadata": {},
   "outputs": [
    {
     "data": {
      "text/html": [
       "<div>\n",
       "<style scoped>\n",
       "    .dataframe tbody tr th:only-of-type {\n",
       "        vertical-align: middle;\n",
       "    }\n",
       "\n",
       "    .dataframe tbody tr th {\n",
       "        vertical-align: top;\n",
       "    }\n",
       "\n",
       "    .dataframe thead th {\n",
       "        text-align: right;\n",
       "    }\n",
       "</style>\n",
       "<table border=\"1\" class=\"dataframe\">\n",
       "  <thead>\n",
       "    <tr style=\"text-align: right;\">\n",
       "      <th></th>\n",
       "      <th>Manufacturer</th>\n",
       "      <th>Model</th>\n",
       "      <th>count</th>\n",
       "    </tr>\n",
       "    <tr>\n",
       "      <th>State</th>\n",
       "      <th></th>\n",
       "      <th></th>\n",
       "      <th></th>\n",
       "    </tr>\n",
       "  </thead>\n",
       "  <tbody>\n",
       "    <tr>\n",
       "      <th>AK</th>\n",
       "      <td>Toyota</td>\n",
       "      <td>Corolla</td>\n",
       "      <td>8</td>\n",
       "    </tr>\n",
       "    <tr>\n",
       "      <th>AL</th>\n",
       "      <td>Audi</td>\n",
       "      <td>A3</td>\n",
       "      <td>11</td>\n",
       "    </tr>\n",
       "    <tr>\n",
       "      <th>AR</th>\n",
       "      <td>Toyota</td>\n",
       "      <td>Corolla</td>\n",
       "      <td>12</td>\n",
       "    </tr>\n",
       "    <tr>\n",
       "      <th>AZ</th>\n",
       "      <td>Lexus</td>\n",
       "      <td>LS</td>\n",
       "      <td>10</td>\n",
       "    </tr>\n",
       "    <tr>\n",
       "      <th>CA</th>\n",
       "      <td>BMW</td>\n",
       "      <td>3 Series</td>\n",
       "      <td>18</td>\n",
       "    </tr>\n",
       "    <tr>\n",
       "      <th>NM</th>\n",
       "      <td>Audi</td>\n",
       "      <td>A6</td>\n",
       "      <td>14</td>\n",
       "    </tr>\n",
       "    <tr>\n",
       "      <th>NY</th>\n",
       "      <td>Audi</td>\n",
       "      <td>A8</td>\n",
       "      <td>13</td>\n",
       "    </tr>\n",
       "  </tbody>\n",
       "</table>\n",
       "</div>"
      ],
      "text/plain": [
       "      Manufacturer     Model  count\n",
       "State                              \n",
       "AK          Toyota   Corolla      8\n",
       "AL            Audi        A3     11\n",
       "AR          Toyota   Corolla     12\n",
       "AZ           Lexus        LS     10\n",
       "CA             BMW  3 Series     18\n",
       "NM            Audi        A6     14\n",
       "NY            Audi        A8     13"
      ]
     },
     "execution_count": 29,
     "metadata": {},
     "output_type": "execute_result"
    }
   ],
   "source": [
    "ans7.groupby(\"State\").first()"
   ]
  },
  {
   "cell_type": "code",
   "execution_count": 30,
   "id": "b919699b-4603-4bbf-aa92-4aa60a61947f",
   "metadata": {},
   "outputs": [],
   "source": [
    "# 8.\tWhich is the best year for the manufacturer Toyota?\n",
    "df_toyota = df[df['Manufacturer']==\"Toyota\"]"
   ]
  },
  {
   "cell_type": "code",
   "execution_count": 32,
   "id": "bc6e2f24-722e-4211-a396-267f771c16f6",
   "metadata": {},
   "outputs": [
    {
     "data": {
      "text/plain": [
       "TradeInModelYear\n",
       "2002    19\n",
       "2007    17\n",
       "2001    15\n",
       "1997    14\n",
       "2003    13\n",
       "2006    13\n",
       "2008    13\n",
       "1999    11\n",
       "1996    10\n",
       "2005     9\n",
       "1998     8\n",
       "2004     8\n",
       "2000     6\n",
       "Name: count, dtype: int64"
      ]
     },
     "execution_count": 32,
     "metadata": {},
     "output_type": "execute_result"
    }
   ],
   "source": [
    "df_toyota['TradeInModelYear'].value_counts() # shows 2002 was the best year"
   ]
  },
  {
   "cell_type": "code",
   "execution_count": 33,
   "id": "b8b4e32f-c778-44cf-8fc0-5b85af328116",
   "metadata": {},
   "outputs": [],
   "source": [
    "#9.\tCreate a new variable by combining the manufacturer name and model.\n",
    "df['Car Name']=df['Manufacturer']+\" \"+df['Model']"
   ]
  },
  {
   "cell_type": "code",
   "execution_count": 34,
   "id": "7b1b6ed4-4421-4b6c-8b31-cfde0c539892",
   "metadata": {},
   "outputs": [
    {
     "data": {
      "text/plain": [
       "0     Toyota Highlander\n",
       "1    Chevrolet Suburban\n",
       "2         Toyota Avalon\n",
       "3            Ferrari F1\n",
       "4          BMW 7 Series\n",
       "Name: Car Name, dtype: object"
      ]
     },
     "execution_count": 34,
     "metadata": {},
     "output_type": "execute_result"
    }
   ],
   "source": [
    "df['Car Name'].head()"
   ]
  },
  {
   "cell_type": "code",
   "execution_count": 36,
   "id": "f3687140-9f60-42bb-b8a6-54650620ba1d",
   "metadata": {},
   "outputs": [],
   "source": [
    "#10.\tCreate a new variable and the values conditionally.\n",
    "# If distance to dealer<10 -very near\n",
    "# >=10 and <50                    -near\n",
    "# >=50 and <100                  -far\n",
    "# >=100                                 -very far\n",
    "import numpy as np\n",
    "df['Distance Category']=np.where(df['DistanceToDealer']<10,\"Very Near\",\n",
    "                                np.where(df['DistanceToDealer']<50,\"Near\",\n",
    "                                        np.where(df['DistanceToDealer']<100,\"Far\",\"Ver Far\")))"
   ]
  },
  {
   "cell_type": "code",
   "execution_count": 37,
   "id": "2257bb59-bdde-41ac-834d-9701fc319c28",
   "metadata": {},
   "outputs": [
    {
     "data": {
      "text/plain": [
       "'Near'"
      ]
     },
     "execution_count": 37,
     "metadata": {},
     "output_type": "execute_result"
    }
   ],
   "source": [
    "# 11.\t Which is the distance within which most customers lie?\n",
    "df['Distance Category'].value_counts().idxmax()"
   ]
  },
  {
   "cell_type": "code",
   "execution_count": 39,
   "id": "ea5ca0b4-cf95-4fa7-b16c-2075bb4b81bb",
   "metadata": {},
   "outputs": [
    {
     "data": {
      "text/plain": [
       "Manufacturer\n",
       "Acura            5721.596330\n",
       "Audi             5805.040541\n",
       "BMW              5771.347518\n",
       "Chevrolet        5803.949495\n",
       "Ferrari          6269.215385\n",
       "Honda            5763.538462\n",
       "Hyundai          6082.175000\n",
       "Infiniti         5911.468750\n",
       "Jaguar           5883.910891\n",
       "Lexus            6225.507692\n",
       "Lotus            6138.014286\n",
       "Mercedes Benz    5269.084746\n",
       "Suzuki           6126.690000\n",
       "Toyota           6093.326923\n",
       "Volvo            5647.301887\n",
       "Name: Car Value, dtype: float64"
      ]
     },
     "execution_count": 39,
     "metadata": {},
     "output_type": "execute_result"
    }
   ],
   "source": [
    "# 12.\tGive a list of car manufacturers and their average car value.\n",
    "df.groupby('Manufacturer')['Car Value'].mean()"
   ]
  },
  {
   "cell_type": "code",
   "execution_count": 45,
   "id": "cbd4114f-894b-400b-afe8-45159bc5108b",
   "metadata": {},
   "outputs": [
    {
     "data": {
      "text/plain": [
       "State\n",
       "CA    350\n",
       "AZ    226\n",
       "NM    213\n",
       "AR    212\n",
       "AL    193\n",
       "NY    166\n",
       "AK    139\n",
       "Name: count, dtype: int64"
      ]
     },
     "execution_count": 45,
     "metadata": {},
     "output_type": "execute_result"
    }
   ],
   "source": [
    "#13.\tWhich state has highest number of leads?\n",
    "df['State'].value_counts()"
   ]
  },
  {
   "cell_type": "code",
   "execution_count": 46,
   "id": "c8cecde1-ece5-408d-b187-0a01e500f725",
   "metadata": {},
   "outputs": [
    {
     "data": {
      "text/plain": [
       "City\n",
       "Albany           9893\n",
       "Conway           9770\n",
       "Courtland        9955\n",
       "Elberta          9963\n",
       "Farmington       9986\n",
       "Foley            9939\n",
       "Globe            9935\n",
       "Hondo            9903\n",
       "Lake City        9734\n",
       "Las Vegas        9981\n",
       "Los Angeles      9921\n",
       "Marion           9963\n",
       "Meas             9928\n",
       "New York         9999\n",
       "North Pole       9977\n",
       "Payson           9946\n",
       "Pell City        9870\n",
       "San Francisco    9982\n",
       "Valencia         9982\n",
       "Wassila          9892\n",
       "Name: Car Value, dtype: int64"
      ]
     },
     "execution_count": 46,
     "metadata": {},
     "output_type": "execute_result"
    }
   ],
   "source": [
    "#14.\tGive city wise max value of car deal.\n",
    "df.groupby('City')['Car Value'].max()"
   ]
  },
  {
   "cell_type": "code",
   "execution_count": 48,
   "id": "70a8fd64-9749-4aa6-bf0a-de09b08dd299",
   "metadata": {},
   "outputs": [
    {
     "data": {
      "text/plain": [
       "Manufacturer\n",
       "Toyota           156\n",
       "Audi             148\n",
       "BMW              141\n",
       "Acura            109\n",
       "Volvo            106\n",
       "Honda            104\n",
       "Jaguar           101\n",
       "Suzuki           100\n",
       "Chevrolet         99\n",
       "Infiniti          96\n",
       "Hyundai           80\n",
       "Lotus             70\n",
       "Ferrari           65\n",
       "Lexus             65\n",
       "Mercedes Benz     59\n",
       "Name: count, dtype: int64"
      ]
     },
     "execution_count": 48,
     "metadata": {},
     "output_type": "execute_result"
    }
   ],
   "source": [
    "#15.\tWhich manufacturer has the highest market share.\n",
    "# in terms of demand\n",
    "df['Manufacturer'].value_counts() # shows Toyota"
   ]
  },
  {
   "cell_type": "code",
   "execution_count": 50,
   "id": "61498912-b498-4e54-aebd-04e2105cb6a0",
   "metadata": {},
   "outputs": [
    {
     "data": {
      "text/plain": [
       "Manufacturer\n",
       "Acura            623654\n",
       "Audi             859146\n",
       "BMW              813760\n",
       "Chevrolet        574591\n",
       "Ferrari          407499\n",
       "Honda            599408\n",
       "Hyundai          486574\n",
       "Infiniti         567501\n",
       "Jaguar           594275\n",
       "Lexus            404658\n",
       "Lotus            429661\n",
       "Mercedes Benz    310876\n",
       "Suzuki           612669\n",
       "Toyota           950559\n",
       "Volvo            598614\n",
       "Name: Car Value, dtype: int64"
      ]
     },
     "execution_count": 50,
     "metadata": {},
     "output_type": "execute_result"
    }
   ],
   "source": [
    "#15.\tWhich manufacturer has the highest market share.\n",
    "# in terms of car value\n",
    "df.groupby('Manufacturer')['Car Value'].sum() # shows Acura"
   ]
  }
 ],
 "metadata": {
  "kernelspec": {
   "display_name": "Python 3 (ipykernel)",
   "language": "python",
   "name": "python3"
  },
  "language_info": {
   "codemirror_mode": {
    "name": "ipython",
    "version": 3
   },
   "file_extension": ".py",
   "mimetype": "text/x-python",
   "name": "python",
   "nbconvert_exporter": "python",
   "pygments_lexer": "ipython3",
   "version": "3.10.11"
  }
 },
 "nbformat": 4,
 "nbformat_minor": 5
}
